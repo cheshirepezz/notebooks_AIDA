{
 "cells": [
  {
   "cell_type": "markdown",
   "metadata": {},
   "source": [
    "# <code>AIDAPy</code> notebooks for particle data analyses\n",
    "___\n",
    "The <code>AIDApy</code> library offers various methods to load, handle, and display particle Velocity Distribution Functions (VDF). The following notebooks illustrate the offered possibilities, in a few different contexts.\n",
    "\n",
    "---"
   ]
  },
  {
   "cell_type": "markdown",
   "metadata": {},
   "source": [
    "[This](./01_mms_overview.ipynb) first notebook gives an overview of the possibilities offered by the library, using electron and ion data.\n",
    "[![imageLinkToOverview](graphics/ban_nb_0.png)](./01_mms_overview.ipynb)\n",
    "\n",
    "___\n",
    "[Details](./02_interpolation_technical.ipynb) on the interpolation technics used by <code>aidapy</code> VDF utilities.\n",
    "[![imageLinkToOverview](graphics/ban_nb_interp.png)](./02_interpolation_technical.ipynb)\n",
    "\n",
    "---\n",
    "[Notes](./03_grid_geometry.ipynb) on grids and geometry (draft).\n",
    "\n",
    "---\n",
    "[Here](./04_whistler_cyclotron.ipynb), we reproduce all the results concerning particle data of the following manuscript [to be added, from arxiv].\n",
    "[![imageLinkToWhistler](graphics/ban_nb_1.png)](./04_whistler_cyclotron.ipynb)\n",
    "\n",
    "___\n",
    "[There](./05_vdf_variability.ipynb), one case study highlighting the variability of the electron VDF (draft).\n",
    "[![imageLinkToOverview](graphics/ban_variability.png)](./05_vdf_variability.ipynb)\n"
   ]
  }
 ],
 "metadata": {
  "kernelspec": {
   "display_name": "Python 3",
   "language": "python",
   "name": "python3"
  },
  "language_info": {
   "codemirror_mode": {
    "name": "ipython",
    "version": 3
   },
   "file_extension": ".py",
   "mimetype": "text/x-python",
   "name": "python",
   "nbconvert_exporter": "python",
   "pygments_lexer": "ipython3",
   "version": "3.7.8"
  }
 },
 "nbformat": 4,
 "nbformat_minor": 4
}
