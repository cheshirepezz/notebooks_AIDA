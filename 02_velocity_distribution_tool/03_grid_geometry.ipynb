{
 "cells": [
  {
   "cell_type": "markdown",
   "metadata": {},
   "source": [
    "# Grid geometry\n",
    "\n",
    "In the previous example, we have interpolated the data over a cylindrical grid-of-interest. This geometry however is irrelevant to the interpolation itself, as nodes of the grid are considered each independently of the others. Therefore the library offers three options for the grid's geometry, namely cartesian, spherical, and cylindrical. Here are a non-exhaustive list of advantages and drawbacks of each geometry.\n",
    "\n",
    "The cartesian geometry might be one's first choice. It might be more intuitive for visualisatoin purposes. However we will see in the next paragraphs that most of the physically relevant cuts and profiles can be more accurately and as easily retrieved from the spherical geometry. One great interest of the cartesian geometry is the straighforward calculation of VDF velocity derivatives, using a finite-difference method.\n",
    "\n",
    "The cylindrical geometry allows a direct averaging over the gyro-angle (angle around the B-field direction), when working in a B-field aligned frame. It then provides a 2-dimensional array with cartesian coordinates in the $(v_{para}, v_{perp})$-plane, as used above for a direct comparison with the cartesian binned data.\n",
    "\n",
    "The spherical geometry is also defined with this physically relevant gyro-angle, together with the total speed (radial component) and the pitch-angle, the angle between a velocity vector and the magnetic field. It is for many purposes the most useful geometry to use, allowing a straightforward averaging over the gyro-angle, and allowing to treat, process the data along the pitch-angle, independently from the speed, or energy, as used in the scaled and normalised views of the VDF (cf. [1](./mms_overview.ipynb) and [2](./whistler_cyclotron.ipynb)).\n",
    "\n",
    "The spherical symmetry allows to easely select some physically relevant profiles and cuts, by simply averaging over one of the three dimensions, over a selected range of the coordinates along that dimension. If one is interested in a parallel profile of the interpolated VDF, "
   ]
  }
 ],
 "metadata": {
  "kernelspec": {
   "display_name": "Python 3",
   "language": "python",
   "name": "python3"
  },
  "language_info": {
   "codemirror_mode": {
    "name": "ipython",
    "version": 3
   },
   "file_extension": ".py",
   "mimetype": "text/x-python",
   "name": "python",
   "nbconvert_exporter": "python",
   "pygments_lexer": "ipython3",
   "version": "3.8.1"
  }
 },
 "nbformat": 4,
 "nbformat_minor": 4
}
