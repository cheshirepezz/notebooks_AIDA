{
 "cells": [
  {
   "cell_type": "code",
   "execution_count": 1,
   "metadata": {},
   "outputs": [],
   "source": [
    "import os\n",
    "import requests\n",
    "import numpy as np\n",
    "import tensorflow.keras as keras\n",
    "import tensorflow as tf\n",
    "from sklearn.preprocessing import StandardScaler\n",
    "from sklearn.metrics import classification_report, cohen_kappa_score\n",
    "import matplotlib.pyplot as plt\n",
    "\n",
    "from scripts.tools import generate_train_test, confusion_matrix, roc_plot, normalize_ts, scale_input_data\n",
    "\n",
    "%matplotlib inline\n",
    "\n",
    "tf.random.set_seed(1234)\n",
    "np.random.seed(4321)"
   ]
  },
  {
   "cell_type": "markdown",
   "metadata": {},
   "source": [
    "# Download data sets"
   ]
  },
  {
   "cell_type": "code",
   "execution_count": 2,
   "metadata": {},
   "outputs": [
    {
     "name": "stdout",
     "output_type": "stream",
     "text": [
      "TSC file has not been downloaded, file already exists\n",
      "MLP file has not been downloaded, file already exists\n"
     ]
    }
   ],
   "source": [
    "url_tsc = 'https://osf.io/4d2yt/download'\n",
    "url_mlp = 'https://osf.io/4fcrw/download'\n",
    "\n",
    "try: \n",
    "    with open('data_set/mms1_samp_4dot5s_win_3min_pad_wrap.h5', 'xb') as r:\n",
    "        html_tsc = requests.get(url_tsc)\n",
    "        r.write(html_tsc.content)\n",
    "except FileExistsError:\n",
    "    print('TSC file has not been downloaded, file already exists')\n",
    "\n",
    "try:\n",
    "    with open('data_set/mlp_mms1_samp_4dot5s.h5', 'xb') as r:\n",
    "        html_mlp = requests.get(url_mlp)\n",
    "        r.write(html_mlp.content)\n",
    "except FileExistsError:\n",
    "    print('MLP file has not been downloaded, file already exists')"
   ]
  },
  {
   "cell_type": "markdown",
   "metadata": {},
   "source": [
    "# FCN"
   ]
  },
  {
   "cell_type": "markdown",
   "metadata": {},
   "source": [
    "## Read the model and input data"
   ]
  },
  {
   "cell_type": "code",
   "execution_count": 3,
   "metadata": {},
   "outputs": [],
   "source": [
    "# Import information on data and training\n",
    "ml_method = 'tsc' # tsc, mlp\n",
    "data_version = 'mms1_samp_4dot5s_win_3min_pad_wrap' \n",
    "data_process = 'no_flux_shuffle_znorm' \n",
    "classifier_name = 'fcn'\n",
    "period = '2016_2018'\n",
    "\n",
    "x_train, y_train, x_test, y_test, x_val, y_val = generate_train_test(\n",
    "    ml_method, data_version, data_process, period)\n",
    "\n",
    "if ml_method == 'tsc':\n",
    "    model_path = os.path.join('trained_model', 'fcn','best_model.hdf5')\n",
    "    model = keras.models.load_model(model_path)\n",
    "else:\n",
    "    raise ValueError('Not implemented')\n",
    "    \n",
    "association = {0:'sw', 1: 'fs', 2:'bs', 3:'msh', 4:'mp', 5:'bl', 6:'msp', 7:'ps', 8:'psbl', 9:'lobe'}"
   ]
  },
  {
   "cell_type": "markdown",
   "metadata": {},
   "source": [
    "## Confusion matrix"
   ]
  },
  {
   "cell_type": "code",
   "execution_count": 4,
   "metadata": {},
   "outputs": [
    {
     "name": "stdout",
     "output_type": "stream",
     "text": [
      "0.8799929747530728\n"
     ]
    },
    {
     "data": {
      "text/html": [
       "<div>\n",
       "<style scoped>\n",
       "    .dataframe tbody tr th:only-of-type {\n",
       "        vertical-align: middle;\n",
       "    }\n",
       "\n",
       "    .dataframe tbody tr th {\n",
       "        vertical-align: top;\n",
       "    }\n",
       "\n",
       "    .dataframe thead th {\n",
       "        text-align: right;\n",
       "    }\n",
       "</style>\n",
       "<table border=\"1\" class=\"dataframe\">\n",
       "  <thead>\n",
       "    <tr style=\"text-align: right;\">\n",
       "      <th>True</th>\n",
       "      <th>sw</th>\n",
       "      <th>fs</th>\n",
       "      <th>bs</th>\n",
       "      <th>msh</th>\n",
       "      <th>mp</th>\n",
       "      <th>bl</th>\n",
       "      <th>msp</th>\n",
       "      <th>ps</th>\n",
       "      <th>psbl</th>\n",
       "      <th>lobe</th>\n",
       "    </tr>\n",
       "    <tr>\n",
       "      <th>Predicted</th>\n",
       "      <th></th>\n",
       "      <th></th>\n",
       "      <th></th>\n",
       "      <th></th>\n",
       "      <th></th>\n",
       "      <th></th>\n",
       "      <th></th>\n",
       "      <th></th>\n",
       "      <th></th>\n",
       "      <th></th>\n",
       "    </tr>\n",
       "  </thead>\n",
       "  <tbody>\n",
       "    <tr>\n",
       "      <th>sw</th>\n",
       "      <td>493</td>\n",
       "      <td>53</td>\n",
       "      <td>8</td>\n",
       "      <td>0</td>\n",
       "      <td>2</td>\n",
       "      <td>1</td>\n",
       "      <td>2</td>\n",
       "      <td>0</td>\n",
       "      <td>0</td>\n",
       "      <td>0</td>\n",
       "    </tr>\n",
       "    <tr>\n",
       "      <th>fs</th>\n",
       "      <td>42</td>\n",
       "      <td>1140</td>\n",
       "      <td>40</td>\n",
       "      <td>0</td>\n",
       "      <td>0</td>\n",
       "      <td>0</td>\n",
       "      <td>0</td>\n",
       "      <td>0</td>\n",
       "      <td>0</td>\n",
       "      <td>0</td>\n",
       "    </tr>\n",
       "    <tr>\n",
       "      <th>bs</th>\n",
       "      <td>2</td>\n",
       "      <td>12</td>\n",
       "      <td>450</td>\n",
       "      <td>54</td>\n",
       "      <td>8</td>\n",
       "      <td>1</td>\n",
       "      <td>0</td>\n",
       "      <td>0</td>\n",
       "      <td>0</td>\n",
       "      <td>0</td>\n",
       "    </tr>\n",
       "    <tr>\n",
       "      <th>msh</th>\n",
       "      <td>0</td>\n",
       "      <td>1</td>\n",
       "      <td>52</td>\n",
       "      <td>982</td>\n",
       "      <td>41</td>\n",
       "      <td>5</td>\n",
       "      <td>0</td>\n",
       "      <td>0</td>\n",
       "      <td>0</td>\n",
       "      <td>0</td>\n",
       "    </tr>\n",
       "    <tr>\n",
       "      <th>mp</th>\n",
       "      <td>0</td>\n",
       "      <td>0</td>\n",
       "      <td>10</td>\n",
       "      <td>37</td>\n",
       "      <td>801</td>\n",
       "      <td>92</td>\n",
       "      <td>5</td>\n",
       "      <td>3</td>\n",
       "      <td>2</td>\n",
       "      <td>1</td>\n",
       "    </tr>\n",
       "    <tr>\n",
       "      <th>bl</th>\n",
       "      <td>0</td>\n",
       "      <td>0</td>\n",
       "      <td>1</td>\n",
       "      <td>4</td>\n",
       "      <td>78</td>\n",
       "      <td>933</td>\n",
       "      <td>49</td>\n",
       "      <td>39</td>\n",
       "      <td>10</td>\n",
       "      <td>0</td>\n",
       "    </tr>\n",
       "    <tr>\n",
       "      <th>msp</th>\n",
       "      <td>0</td>\n",
       "      <td>0</td>\n",
       "      <td>0</td>\n",
       "      <td>0</td>\n",
       "      <td>10</td>\n",
       "      <td>32</td>\n",
       "      <td>1101</td>\n",
       "      <td>0</td>\n",
       "      <td>0</td>\n",
       "      <td>0</td>\n",
       "    </tr>\n",
       "    <tr>\n",
       "      <th>ps</th>\n",
       "      <td>0</td>\n",
       "      <td>0</td>\n",
       "      <td>0</td>\n",
       "      <td>0</td>\n",
       "      <td>5</td>\n",
       "      <td>38</td>\n",
       "      <td>5</td>\n",
       "      <td>803</td>\n",
       "      <td>54</td>\n",
       "      <td>1</td>\n",
       "    </tr>\n",
       "    <tr>\n",
       "      <th>psbl</th>\n",
       "      <td>0</td>\n",
       "      <td>0</td>\n",
       "      <td>0</td>\n",
       "      <td>0</td>\n",
       "      <td>7</td>\n",
       "      <td>13</td>\n",
       "      <td>0</td>\n",
       "      <td>59</td>\n",
       "      <td>572</td>\n",
       "      <td>15</td>\n",
       "    </tr>\n",
       "    <tr>\n",
       "      <th>lobe</th>\n",
       "      <td>0</td>\n",
       "      <td>0</td>\n",
       "      <td>0</td>\n",
       "      <td>0</td>\n",
       "      <td>0</td>\n",
       "      <td>0</td>\n",
       "      <td>0</td>\n",
       "      <td>1</td>\n",
       "      <td>16</td>\n",
       "      <td>354</td>\n",
       "    </tr>\n",
       "  </tbody>\n",
       "</table>\n",
       "</div>"
      ],
      "text/plain": [
       "True        sw    fs   bs  msh   mp   bl   msp   ps  psbl  lobe\n",
       "Predicted                                                      \n",
       "sw         493    53    8    0    2    1     2    0     0     0\n",
       "fs          42  1140   40    0    0    0     0    0     0     0\n",
       "bs           2    12  450   54    8    1     0    0     0     0\n",
       "msh          0     1   52  982   41    5     0    0     0     0\n",
       "mp           0     0   10   37  801   92     5    3     2     1\n",
       "bl           0     0    1    4   78  933    49   39    10     0\n",
       "msp          0     0    0    0   10   32  1101    0     0     0\n",
       "ps           0     0    0    0    5   38     5  803    54     1\n",
       "psbl         0     0    0    0    7   13     0   59   572    15\n",
       "lobe         0     0    0    0    0    0     0    1    16   354"
      ]
     },
     "metadata": {},
     "output_type": "display_data"
    }
   ],
   "source": [
    "y_score = model.predict(x_test)\n",
    "y_score = y_score / np.sum(y_score, axis=1).reshape((-1,1))\n",
    "\n",
    "y_pred = np.argmax(y_score,axis=1)\n",
    "\n",
    "conf_matrix, percentage = confusion_matrix(y_pred, y_test, association=association)\n",
    "\n",
    "print(cohen_kappa_score(y_test, y_pred))\n",
    "\n",
    "display(conf_matrix)"
   ]
  },
  {
   "cell_type": "markdown",
   "metadata": {},
   "source": [
    "## Classification report: Precision, recall, f1-score"
   ]
  },
  {
   "cell_type": "code",
   "execution_count": 5,
   "metadata": {},
   "outputs": [
    {
     "name": "stdout",
     "output_type": "stream",
     "text": [
      "              precision    recall  f1-score   support\n",
      "\n",
      "         0.0       0.88      0.92      0.90       537\n",
      "         1.0       0.93      0.95      0.94      1206\n",
      "         2.0       0.85      0.80      0.83       561\n",
      "         3.0       0.91      0.91      0.91      1077\n",
      "         4.0       0.84      0.84      0.84       952\n",
      "         5.0       0.84      0.84      0.84      1115\n",
      "         6.0       0.96      0.95      0.96      1162\n",
      "         7.0       0.89      0.89      0.89       905\n",
      "         8.0       0.86      0.87      0.87       654\n",
      "         9.0       0.95      0.95      0.95       371\n",
      "\n",
      "    accuracy                           0.89      8540\n",
      "   macro avg       0.89      0.89      0.89      8540\n",
      "weighted avg       0.89      0.89      0.89      8540\n",
      "\n"
     ]
    }
   ],
   "source": [
    "report = classification_report(y_test, y_pred)\n",
    "print(report)"
   ]
  },
  {
   "cell_type": "markdown",
   "metadata": {},
   "source": [
    "## ROC"
   ]
  },
  {
   "cell_type": "code",
   "execution_count": 6,
   "metadata": {},
   "outputs": [
    {
     "name": "stdout",
     "output_type": "stream",
     "text": [
      "n_classes 10\n",
      "AUC macro average :0.9927366208431044\n",
      "AUC micro average :0.9937888827034891\n"
     ]
    },
    {
     "data": {
      "image/png": "[encoded data removed]",
      "text/plain": [
       "<Figure size 432x288 with 1 Axes>"
      ]
     },
     "metadata": {
      "needs_background": "light"
     },
     "output_type": "display_data"
    }
   ],
   "source": [
    "fig = roc_plot(y_score, y_test, association=association)\n",
    "plt.show()"
   ]
  },
  {
   "cell_type": "markdown",
   "metadata": {},
   "source": [
    "# MLP"
   ]
  },
  {
   "cell_type": "markdown",
   "metadata": {},
   "source": [
    "## Read the model and input data"
   ]
  },
  {
   "cell_type": "code",
   "execution_count": 7,
   "metadata": {},
   "outputs": [],
   "source": [
    "# Import information on data and training\n",
    "ml_method = 'mlp' # tsc, mlp\n",
    "data_version = 'mms1_samp_4dot5s' \n",
    "data_process = 'no_flux_shuffle' \n",
    "classifier_name = 'mlp'\n",
    "period = '2016_2018'\n",
    "\n",
    "x_train, y_train, x_test, y_test, x_val, y_val = generate_train_test(\n",
    "    ml_method, data_version, data_process, period)\n",
    "\n",
    "if ml_method == 'mlp':\n",
    "    x_train, x_test = scale_input_data(x_train, x_test)\n",
    "    model_path = os.path.join('trained_model', 'mlp', 'trained_model.hdf5')\n",
    "    model = keras.models.load_model(model_path)\n",
    "else:\n",
    "    raise ValueError('Not implemented')"
   ]
  },
  {
   "cell_type": "markdown",
   "metadata": {},
   "source": [
    "## Confusion matrix"
   ]
  },
  {
   "cell_type": "code",
   "execution_count": 8,
   "metadata": {},
   "outputs": [
    {
     "name": "stdout",
     "output_type": "stream",
     "text": [
      "(332784, 12)\n",
      "0.8041632196248358\n"
     ]
    },
    {
     "data": {
      "text/html": [
       "<div>\n",
       "<style scoped>\n",
       "    .dataframe tbody tr th:only-of-type {\n",
       "        vertical-align: middle;\n",
       "    }\n",
       "\n",
       "    .dataframe tbody tr th {\n",
       "        vertical-align: top;\n",
       "    }\n",
       "\n",
       "    .dataframe thead th {\n",
       "        text-align: right;\n",
       "    }\n",
       "</style>\n",
       "<table border=\"1\" class=\"dataframe\">\n",
       "  <thead>\n",
       "    <tr style=\"text-align: right;\">\n",
       "      <th>True</th>\n",
       "      <th>sw</th>\n",
       "      <th>fs</th>\n",
       "      <th>bs</th>\n",
       "      <th>msh</th>\n",
       "      <th>mp</th>\n",
       "      <th>bl</th>\n",
       "      <th>msp</th>\n",
       "      <th>ps</th>\n",
       "      <th>psbl</th>\n",
       "      <th>lobe</th>\n",
       "    </tr>\n",
       "    <tr>\n",
       "      <th>Predicted</th>\n",
       "      <th></th>\n",
       "      <th></th>\n",
       "      <th></th>\n",
       "      <th></th>\n",
       "      <th></th>\n",
       "      <th></th>\n",
       "      <th></th>\n",
       "      <th></th>\n",
       "      <th></th>\n",
       "      <th></th>\n",
       "    </tr>\n",
       "  </thead>\n",
       "  <tbody>\n",
       "    <tr>\n",
       "      <th>sw</th>\n",
       "      <td>18329</td>\n",
       "      <td>2213</td>\n",
       "      <td>689</td>\n",
       "      <td>23</td>\n",
       "      <td>6</td>\n",
       "      <td>8</td>\n",
       "      <td>350</td>\n",
       "      <td>0</td>\n",
       "      <td>0</td>\n",
       "      <td>0</td>\n",
       "    </tr>\n",
       "    <tr>\n",
       "      <th>fs</th>\n",
       "      <td>2735</td>\n",
       "      <td>44491</td>\n",
       "      <td>4515</td>\n",
       "      <td>43</td>\n",
       "      <td>158</td>\n",
       "      <td>59</td>\n",
       "      <td>22</td>\n",
       "      <td>5</td>\n",
       "      <td>0</td>\n",
       "      <td>0</td>\n",
       "    </tr>\n",
       "    <tr>\n",
       "      <th>bs</th>\n",
       "      <td>174</td>\n",
       "      <td>711</td>\n",
       "      <td>8433</td>\n",
       "      <td>2497</td>\n",
       "      <td>2210</td>\n",
       "      <td>221</td>\n",
       "      <td>9</td>\n",
       "      <td>15</td>\n",
       "      <td>0</td>\n",
       "      <td>2</td>\n",
       "    </tr>\n",
       "    <tr>\n",
       "      <th>msh</th>\n",
       "      <td>22</td>\n",
       "      <td>67</td>\n",
       "      <td>5416</td>\n",
       "      <td>37018</td>\n",
       "      <td>3430</td>\n",
       "      <td>329</td>\n",
       "      <td>2</td>\n",
       "      <td>0</td>\n",
       "      <td>0</td>\n",
       "      <td>5</td>\n",
       "    </tr>\n",
       "    <tr>\n",
       "      <th>mp</th>\n",
       "      <td>15</td>\n",
       "      <td>132</td>\n",
       "      <td>2040</td>\n",
       "      <td>1873</td>\n",
       "      <td>23727</td>\n",
       "      <td>5190</td>\n",
       "      <td>425</td>\n",
       "      <td>253</td>\n",
       "      <td>141</td>\n",
       "      <td>29</td>\n",
       "    </tr>\n",
       "    <tr>\n",
       "      <th>bl</th>\n",
       "      <td>0</td>\n",
       "      <td>0</td>\n",
       "      <td>13</td>\n",
       "      <td>24</td>\n",
       "      <td>2106</td>\n",
       "      <td>31637</td>\n",
       "      <td>1896</td>\n",
       "      <td>1242</td>\n",
       "      <td>220</td>\n",
       "      <td>54</td>\n",
       "    </tr>\n",
       "    <tr>\n",
       "      <th>msp</th>\n",
       "      <td>0</td>\n",
       "      <td>0</td>\n",
       "      <td>6</td>\n",
       "      <td>0</td>\n",
       "      <td>701</td>\n",
       "      <td>2930</td>\n",
       "      <td>43454</td>\n",
       "      <td>39</td>\n",
       "      <td>27</td>\n",
       "      <td>0</td>\n",
       "    </tr>\n",
       "    <tr>\n",
       "      <th>ps</th>\n",
       "      <td>2</td>\n",
       "      <td>5</td>\n",
       "      <td>34</td>\n",
       "      <td>2</td>\n",
       "      <td>677</td>\n",
       "      <td>3184</td>\n",
       "      <td>195</td>\n",
       "      <td>30859</td>\n",
       "      <td>2206</td>\n",
       "      <td>103</td>\n",
       "    </tr>\n",
       "    <tr>\n",
       "      <th>psbl</th>\n",
       "      <td>0</td>\n",
       "      <td>0</td>\n",
       "      <td>9</td>\n",
       "      <td>1</td>\n",
       "      <td>352</td>\n",
       "      <td>715</td>\n",
       "      <td>0</td>\n",
       "      <td>2974</td>\n",
       "      <td>22969</td>\n",
       "      <td>953</td>\n",
       "    </tr>\n",
       "    <tr>\n",
       "      <th>lobe</th>\n",
       "      <td>0</td>\n",
       "      <td>0</td>\n",
       "      <td>1</td>\n",
       "      <td>0</td>\n",
       "      <td>2</td>\n",
       "      <td>30</td>\n",
       "      <td>0</td>\n",
       "      <td>45</td>\n",
       "      <td>1082</td>\n",
       "      <td>14003</td>\n",
       "    </tr>\n",
       "  </tbody>\n",
       "</table>\n",
       "</div>"
      ],
      "text/plain": [
       "True          sw     fs    bs    msh     mp     bl    msp     ps   psbl   lobe\n",
       "Predicted                                                                     \n",
       "sw         18329   2213   689     23      6      8    350      0      0      0\n",
       "fs          2735  44491  4515     43    158     59     22      5      0      0\n",
       "bs           174    711  8433   2497   2210    221      9     15      0      2\n",
       "msh           22     67  5416  37018   3430    329      2      0      0      5\n",
       "mp            15    132  2040   1873  23727   5190    425    253    141     29\n",
       "bl             0      0    13     24   2106  31637   1896   1242    220     54\n",
       "msp            0      0     6      0    701   2930  43454     39     27      0\n",
       "ps             2      5    34      2    677   3184    195  30859   2206    103\n",
       "psbl           0      0     9      1    352    715      0   2974  22969    953\n",
       "lobe           0      0     1      0      2     30      0     45   1082  14003"
      ]
     },
     "metadata": {},
     "output_type": "display_data"
    }
   ],
   "source": [
    "print(x_test.shape)\n",
    "\n",
    "y_score = model.predict(x_test)\n",
    "y_score = y_score / np.sum(y_score, axis=1).reshape((-1,1))\n",
    "\n",
    "y_pred = np.argmax(y_score,axis=1)\n",
    "\n",
    "conf_matrix, percentage = confusion_matrix(y_pred, y_test, association=association)\n",
    "\n",
    "print(cohen_kappa_score(y_test, y_pred))\n",
    "\n",
    "display(conf_matrix)"
   ]
  },
  {
   "cell_type": "markdown",
   "metadata": {},
   "source": [
    "## Classification report"
   ]
  },
  {
   "cell_type": "code",
   "execution_count": 9,
   "metadata": {},
   "outputs": [
    {
     "name": "stdout",
     "output_type": "stream",
     "text": [
      "              precision    recall  f1-score   support\n",
      "\n",
      "         0.0       0.85      0.86      0.85     21277\n",
      "         1.0       0.86      0.93      0.89     47619\n",
      "         2.0       0.59      0.40      0.48     21156\n",
      "         3.0       0.80      0.89      0.84     41481\n",
      "         4.0       0.70      0.71      0.71     33369\n",
      "         5.0       0.85      0.71      0.78     44303\n",
      "         6.0       0.92      0.94      0.93     46353\n",
      "         7.0       0.83      0.87      0.85     35432\n",
      "         8.0       0.82      0.86      0.84     26645\n",
      "         9.0       0.92      0.92      0.92     15149\n",
      "\n",
      "    accuracy                           0.83    332784\n",
      "   macro avg       0.81      0.81      0.81    332784\n",
      "weighted avg       0.82      0.83      0.82    332784\n",
      "\n"
     ]
    }
   ],
   "source": [
    "report = classification_report(y_test, y_pred)\n",
    "print(report)"
   ]
  },
  {
   "cell_type": "markdown",
   "metadata": {},
   "source": [
    "## ROC curve"
   ]
  },
  {
   "cell_type": "code",
   "execution_count": 10,
   "metadata": {},
   "outputs": [
    {
     "name": "stdout",
     "output_type": "stream",
     "text": [
      "n_classes 10\n",
      "AUC macro average :0.9822571094812447\n",
      "AUC micro average :0.9870615505346487\n"
     ]
    },
    {
     "data": {
      "image/png": "[encoded data removed]",
      "text/plain": [
       "<Figure size 432x288 with 1 Axes>"
      ]
     },
     "metadata": {
      "needs_background": "light"
     },
     "output_type": "display_data"
    }
   ],
   "source": [
    "fig = roc_plot(y_score, y_test, association=association)\n",
    "plt.show()"
   ]
  },
  {
   "cell_type": "code",
   "execution_count": null,
   "metadata": {},
   "outputs": [],
   "source": []
  }
 ],
 "metadata": {
  "kernelspec": {
   "display_name": "Python 3",
   "language": "python",
   "name": "python3"
  },
  "language_info": {
   "codemirror_mode": {
    "name": "ipython",
    "version": 3
   },
   "file_extension": ".py",
   "mimetype": "text/x-python",
   "name": "python",
   "nbconvert_exporter": "python",
   "pygments_lexer": "ipython3",
   "version": "3.7.6"
  }
 },
 "nbformat": 4,
 "nbformat_minor": 4
}
