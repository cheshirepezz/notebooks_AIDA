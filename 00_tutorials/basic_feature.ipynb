{
 "cells": [
  {
   "cell_type": "markdown",
   "metadata": {},
   "source": [
    "# Basic aidapy feature"
   ]
  },
  {
   "cell_type": "markdown",
   "metadata": {},
   "source": [
    "In this very short notebook, we show some routines to find information about the implemented missions in aidapy and how the different keywords are supported by the load routine."
   ]
  },
  {
   "cell_type": "code",
   "execution_count": 1,
   "metadata": {},
   "outputs": [],
   "source": [
    "from aidapy import get_mission_info, load_data"
   ]
  },
  {
   "cell_type": "markdown",
   "metadata": {},
   "source": [
    "### Getting information about the missions"
   ]
  },
  {
   "cell_type": "markdown",
   "metadata": {},
   "source": [
    "The routine `get_mission_info` gives various informations on the accepted keyword for the mission."
   ]
  },
  {
   "cell_type": "code",
   "execution_count": 2,
   "metadata": {},
   "outputs": [
    {
     "name": "stdout",
     "output_type": "stream",
     "text": [
      "All available keywords for omni mission data products: \n"
     ]
    },
    {
     "data": {
      "text/plain": [
       "{'name': 'omni',\n",
       " 'allowed_probes': ['1'],\n",
       " 'product_catalog': ['dc_mag', 'i_dens', 'all']}"
      ]
     },
     "execution_count": 2,
     "metadata": {},
     "output_type": "execute_result"
    }
   ],
   "source": [
    "get_mission_info(mission='omni')"
   ]
  },
  {
   "cell_type": "markdown",
   "metadata": {},
   "source": [
    "Here, only the probe '1' is accepted as omni does not use multi-spacecraft."
   ]
  },
  {
   "cell_type": "code",
   "execution_count": 3,
   "metadata": {},
   "outputs": [
    {
     "name": "stdout",
     "output_type": "stream",
     "text": [
      "All available keywords for cluster mission data products: \n"
     ]
    },
    {
     "data": {
      "text/plain": [
       "{'name': 'cluster',\n",
       " 'allowed_probes': ['1', '2', '3', '4'],\n",
       " 'product_catalog': ['dc_mag',\n",
       "  'sc_pos',\n",
       "  'i_dens',\n",
       "  'i_bulkv',\n",
       "  'i_dist',\n",
       "  'i_temppara',\n",
       "  'i_tempperp',\n",
       "  'i_temp']}"
      ]
     },
     "execution_count": 3,
     "metadata": {},
     "output_type": "execute_result"
    }
   ],
   "source": [
    "get_mission_info('cluster')"
   ]
  },
  {
   "cell_type": "markdown",
   "metadata": {},
   "source": [
    "Here, cluster can provide data for 4 different probes. Different high level products (in the product_catalog) can be queried. Detailed about these products can be found in the [documentation](https://aidapy.readthedocs.io/en/latest/mission.html) or using the keyword `full_product_catalog`."
   ]
  },
  {
   "cell_type": "code",
   "execution_count": 4,
   "metadata": {},
   "outputs": [
    {
     "name": "stdout",
     "output_type": "stream",
     "text": [
      "All available keys for cluster mission data products: \n"
     ]
    },
    {
     "data": {
      "text/plain": [
       "{'name': 'cluster',\n",
       " 'allowed_probes': ['1', '2', '3', '4'],\n",
       " 'product_catalog': {'dc_mag': {'instr': 'fgm',\n",
       "   'low_res': 'SPIN',\n",
       "   'high_res': 'FULL',\n",
       "   'prod_string': 'CP_FGM_low_res',\n",
       "   'descriptor': '3-component (x, y, z) or 4-component (x, y, z, tot) vector of magnetic field',\n",
       "   'cdf_key': {'B0_vector': 'B_vec_xyz_gse__C1_CP_FGM_low_res'}},\n",
       "  'sc_pos': {'instr': 'fgm',\n",
       "   'low_res': 'SPIN',\n",
       "   'high_res': 'FULL',\n",
       "   'prod_string': 'CP_FGM_low_res',\n",
       "   'descriptor': 'Spacecraft position',\n",
       "   'cdf_key': {'pos_gse': 'sc_pos_xyz_gse__C1_CP_FGM_low_res'}},\n",
       "  'i_dens': {'instr': 'cis',\n",
       "   'low_res': 'only',\n",
       "   'high_res': 'none',\n",
       "   'prod_string': 'CP_CIS-HIA_ONBOARD_MOMENTS',\n",
       "   'descriptor': 'Ion number density',\n",
       "   'cdf_key': {'HIA_number_density': 'density__C1_CP_CIS-HIA_ONBOARD_MOMENTS'}},\n",
       "  'i_bulkv': {'instr': 'cis',\n",
       "   'low_res': 'only',\n",
       "   'high_res': 'none',\n",
       "   'prod_string': 'CP_CIS-HIA_ONBOARD_MOMENTS',\n",
       "   'descriptor': 'Ion bulk velocity vector',\n",
       "   'cdf_key': {'HIA_ion velocity_density': 'velocity_gse__C1_CP_CIS-HIA_ONBOARD_MOMENTS'}},\n",
       "  'i_dist': {'instr': 'cis',\n",
       "   'low_res': 'only',\n",
       "   'high_res': 'none',\n",
       "   'prod_string': 'CP_CIS-HIA_HS_MAG_IONS_PF',\n",
       "   'descriptor': 'Ion 3D distribution function',\n",
       "   'cdf_key': {'dist': '3d_ions__C1_CP_CIS-HIA_HS_MAG_IONS_PF',\n",
       "    'theta': 'theta__C1_CP_CIS-HIA_HS_MAG_IONS_PF',\n",
       "    'phi': 'phi__C1_CP_CIS-HIA_HS_MAG_IONS_PF',\n",
       "    'energy': 'energy_table__C1_CP_CIS-HIA_HS_MAG_IONS_PF'}},\n",
       "  'i_temppara': {'instr': 'cis',\n",
       "   'low_res': 'only',\n",
       "   'high_res': 'none',\n",
       "   'prod_string': 'CP_CIS-HIA_ONBOARD_MOMENTS',\n",
       "   'descriptor': 'Ion temperature parallel to dc_mag',\n",
       "   'cdf_key': {'HIA_number_density': 'temp_par__C1_CP_CIS-HIA_ONBOARD_MOMENTS'}},\n",
       "  'i_tempperp': {'instr': 'cis',\n",
       "   'low_res': 'only',\n",
       "   'high_res': 'none',\n",
       "   'prod_string': 'CP_CIS-HIA_ONBOARD_MOMENTS',\n",
       "   'descriptor': 'Ion temperature perpendicular to dc_mag',\n",
       "   'cdf_key': {'HIA_number_density': 'temp_perp__C1_CP_CIS-HIA_ONBOARD_MOMENTS'}},\n",
       "  'i_temp': {'instr': 'cis',\n",
       "   'low_res': 'only',\n",
       "   'high_res': 'none',\n",
       "   'prod_string': 'CP_CIS-HIA_ONBOARD_MOMENTS',\n",
       "   'descriptor': 'Ion temperature',\n",
       "   'cdf_key': {'HIA_number_density': 'temperature__C1_CP_CIS-HIA_ONBOARD_MOMENTS'}}}}"
      ]
     },
     "execution_count": 4,
     "metadata": {},
     "output_type": "execute_result"
    }
   ],
   "source": [
    "get_mission_info('cluster', full_product_catalog=True)"
   ]
  },
  {
   "cell_type": "markdown",
   "metadata": {},
   "source": [
    "Information about the MMS mission are also available."
   ]
  },
  {
   "cell_type": "code",
   "execution_count": 5,
   "metadata": {},
   "outputs": [
    {
     "name": "stdout",
     "output_type": "stream",
     "text": [
      "All available keywords for mms mission data products: \n"
     ]
    },
    {
     "data": {
      "text/plain": [
       "{'name': 'mms',\n",
       " 'allowed_probes': ['1', '2', '3', '4'],\n",
       " 'product_catalog': ['sc_pos',\n",
       "  'sc_att',\n",
       "  'dc_mag',\n",
       "  'dc_elec',\n",
       "  'i_dens',\n",
       "  'e_dens',\n",
       "  'e_bulkv',\n",
       "  'i_bulkv',\n",
       "  'i_dist',\n",
       "  'e_dist',\n",
       "  'e_temppara',\n",
       "  'e_tempperp',\n",
       "  'i_temppara',\n",
       "  'i_tempperp',\n",
       "  'i_omniflux',\n",
       "  'i_energy',\n",
       "  'i_aspoc',\n",
       "  'i_prestens',\n",
       "  'i_temptens',\n",
       "  'i_heatq',\n",
       "  'e_heatq']}"
      ]
     },
     "execution_count": 5,
     "metadata": {},
     "output_type": "execute_result"
    }
   ],
   "source": [
    "get_mission_info('mms')"
   ]
  },
  {
   "cell_type": "markdown",
   "metadata": {},
   "source": [
    "### Finding help on the different routine"
   ]
  },
  {
   "cell_type": "markdown",
   "metadata": {},
   "source": [
    "Finally, you can use the help() function on get_mission_info and load_data to show the docstrings."
   ]
  },
  {
   "cell_type": "code",
   "execution_count": 6,
   "metadata": {},
   "outputs": [
    {
     "name": "stdout",
     "output_type": "stream",
     "text": [
      "Help on function get_mission_info in module aidapy.aidafunc.load_data:\n",
      "\n",
      "get_mission_info(mission='mission', start_time=None, end_time=None, product=None, full_product_catalog=False, hide=False)\n",
      "    Provide information on the mission\n",
      "    \n",
      "    Parameters\n",
      "    ----------\n",
      "    mission : str\n",
      "        The name of the mission from which the data are loaded/downloaded\n",
      "    \n",
      "    start_time : ~datetime.datetime or ~astropy.time.Time\n",
      "        Start time of the loading\n",
      "    \n",
      "    end_time : ~datetime.datetime or ~astropy.time.Time\n",
      "        End time of the loading\n",
      "    \n",
      "    product : str\n",
      "        Data product to look for in product_catalog\n",
      "    \n",
      "    full_product_catalog : bool\n",
      "        Tag to provide all available keys\n",
      "    \n",
      "    hide : bool\n",
      "        Tag to hide print messages when use in routines\n",
      "    \n",
      "    Return\n",
      "    ------\n",
      "    info : dict or str\n",
      "        String containing the AIDApy keyword of the queried product\n",
      "        or\n",
      "        Dictionary with information on the mission or queried product\n",
      "        with the following keys:\n",
      "        - name:\n",
      "        - allowed_probes:\n",
      "        - product_catalog:\n",
      "\n"
     ]
    }
   ],
   "source": [
    "help(get_mission_info)"
   ]
  },
  {
   "cell_type": "code",
   "execution_count": 7,
   "metadata": {},
   "outputs": [
    {
     "name": "stdout",
     "output_type": "stream",
     "text": [
      "Help on function load_data in module aidapy.aidafunc.load_data:\n",
      "\n",
      "load_data(mission, start_time, end_time, **kwargs)\n",
      "    Load the data from the given mission on a specific time interface.\n",
      "    The extra arguments gives details on the data to load.\n",
      "    \n",
      "    Parameters\n",
      "    ----------\n",
      "    mission : str\n",
      "        The name of the mission from which the data are loaded/downloaded\n",
      "    \n",
      "    start_time : ~datetime.datetime or ~astropy.time.Time\n",
      "        Start time of the loading\n",
      "    \n",
      "    end_time : ~datetime.datetime or ~astropy.time.Time\n",
      "        End time of the loading\n",
      "    \n",
      "    **kwargs\n",
      "        Specific arguments for providing information for the mission or\n",
      "        the download settings:\n",
      "        - prod: high-level product to load. Can be a string or a list.\n",
      "        The full list is available by using the\n",
      "        :func:`~aidapy.aidafunc.load_data.get_mission_info` routine.\n",
      "        - probes: probe number. Can be a string or a list.\n",
      "        - coords: coordinate system to use.\n",
      "        - mode: mode to define the data rate. Usually it can be either\n",
      "        'low_res' or 'high_res'. The user can also specify a mode specific\n",
      "        to a mission (for instance for MMS : 'slow', 'fast', 'brst', 'srvy')\n",
      "        The list for these specific modes (or data_rate) can be found in\n",
      "        the heliopy documentation.\n",
      "        https://docs.heliopy.org/en/stable/reference/data/index.html\n",
      "        - frame: frame used only for spacecraft attitude. Usually 'dbcs'\n",
      "        Example: {'prod': ['dc_mag'], 'probes': ['1', '2'], 'coords': 'gse',\n",
      "        'mode': 'high_res'}\n",
      "    \n",
      "    Return\n",
      "    ------\n",
      "    xarray_mission : ~xarray.DataSet\n",
      "        Requested data contained within a xarray DataSet. Each data variable\n",
      "        contains a specific product of a specific probe\n",
      "\n"
     ]
    }
   ],
   "source": [
    "help(load_data)"
   ]
  },
  {
   "cell_type": "code",
   "execution_count": null,
   "metadata": {},
   "outputs": [],
   "source": []
  }
 ],
 "metadata": {
  "kernelspec": {
   "display_name": "Python 3",
   "language": "python",
   "name": "python3"
  },
  "language_info": {
   "codemirror_mode": {
    "name": "ipython",
    "version": 3
   },
   "file_extension": ".py",
   "mimetype": "text/x-python",
   "name": "python",
   "nbconvert_exporter": "python",
   "pygments_lexer": "ipython3",
   "version": "3.7.8"
  }
 },
 "nbformat": 4,
 "nbformat_minor": 4
}
